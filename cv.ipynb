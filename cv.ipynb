{
  "cells": [
    {
      "cell_type": "markdown",
      "metadata": {
        "id": "view-in-github",
        "colab_type": "text"
      },
      "source": [
        "<a href=\"https://colab.research.google.com/github/MicaAle36/CV/blob/main/cv.ipynb\" target=\"_parent\"><img src=\"https://colab.research.google.com/assets/colab-badge.svg\" alt=\"Open In Colab\"/></a>"
      ]
    },
    {
      "cell_type": "markdown",
      "metadata": {
        "id": "75zase1GSEZV"
      },
      "source": [
        "<h1 id = 'Titulo'>Micaela Oliva</h1>"
      ]
    },
    {
      "cell_type": "markdown",
      "metadata": {
        "id": "EFzqTTWGSEZa"
      },
      "source": [
        "<p>Python developer Jr| Machine Learning Enginner Jr</p>\n",
        "<p>Cordoba, Argentina</p>"
      ]
    },
    {
      "cell_type": "markdown",
      "metadata": {
        "id": "m6NLLTobSEZb"
      },
      "source": [
        "<p>Soy una apasionada ingeniera de Machine Learning Jr con experiencia en el desarrollo de algoritmos y proyectos utilizando Python y tecnologias relacionadas. He completado con exito la certificacion de Python developer en Coderhouse y estoy comprometida a convertirme en una experta en el campo. Mi enfoque principal es trabajar en proyectos de Machine Learning y analisis de datos, utilizando herramientas como Python y AWS.</p>"
      ]
    },
    {
      "cell_type": "markdown",
      "metadata": {
        "id": "RYez9-UgSEZb"
      },
      "source": [
        "<h3>Habilidades tecnicas</h3>"
      ]
    },
    {
      "cell_type": "markdown",
      "metadata": {
        "id": "bgCrWhhzSEZc"
      },
      "source": [
        "<lu>\n",
        "<li>Python</li>\n",
        "<li>SQL</li>\n",
        "<li>Jupyter Notebooks, Colaboratory</li>\n",
        "<li>Keras, TensorFlow, Numpy, Pandas, Plotly, Matplotlib, entre otras</li>\n",
        "<li>AWS</li>\n",
        "<li>Anaconda</li>\n",
        "</lu>"
      ]
    },
    {
      "cell_type": "markdown",
      "metadata": {
        "id": "45SdpQn9SEZc"
      },
      "source": [
        "<h3>Experiencia laboral</h3>"
      ]
    },
    {
      "cell_type": "markdown",
      "metadata": {
        "id": "v527mQIySEZc"
      },
      "source": [
        "<p><strong>Galessi</strong></p>\n",
        "<p>Emprendimiento personal. Venta de indumentaria femenina | Septiembre 2018 - Marzo 2020 </p>\n",
        "\n",
        "<li>Publicar contenido en redes sociales</li>\n",
        "<li>Actualizar el catálogo de productos</li>\n",
        "<li>Gestionar las ventas</li>\n",
        "<li>Ofrecer descuentos y promociones a los clientes</li>\n",
        "<li>Enviar pedidos a los clientes</li>\n",
        "<li>Realizar un seguimiento de los gastos e ingresos</li>\n",
        "<li>Crear presupuestos</li>\n"
      ]
    },
    {
      "cell_type": "markdown",
      "metadata": {
        "id": "HykLQERsSEZd"
      },
      "source": [
        "<p><strong>Proximo Contact Center</strong></p>\n",
        "<p>Agente de cobros | Abril 2016 - Julio 2018</p>\n",
        "\n",
        "<li>Realice cobranzas en mora temprana y en mora avanzada para la financiera Tarjeta Shopping</li>\n"
      ]
    },
    {
      "cell_type": "markdown",
      "metadata": {
        "id": "rGY5GFcPSEZd"
      },
      "source": [
        "<p><strong>Baret</strong></p>\n",
        "<p>Agente de ventas | Agosto 2015 - Febrero 2016</p>\n",
        "\n",
        "<li>Realice portabilidad hacia Claro</li>"
      ]
    },
    {
      "cell_type": "markdown",
      "metadata": {
        "id": "6MSC_eClSEZe"
      },
      "source": [
        "<h3>Educacion</h3>\n",
        "\n",
        "<p><strong>UTN FRC</strong><p>\n",
        "<p>Ingenieria, Ingenieria quimica | 2015 - 2018</p>\n",
        "\n",
        "<p><strong>UTN FRC</strong></p>\n",
        "<p>Ingenieria, Ingenieria en Sistemas de la informacion | 2012 - 2013</p>"
      ]
    },
    {
      "cell_type": "markdown",
      "metadata": {
        "id": "QykKvUsjSEZe"
      },
      "source": [
        "<h3>Proyectos destacados</h3>"
      ]
    },
    {
      "cell_type": "markdown",
      "metadata": {
        "id": "oakttGTISEZe"
      },
      "source": [
        "<li>Desarrollo de un modelo de <a href='https://github.com/MicaAle36/recognition-of-emotions'> clasificacion de imagenes </a>utilizando TensorFlow y Keras</li>\n",
        "<li>Creacion de <a href=''>visualizaciones interactivas</a> utilizando Pandas y Plotly para presentar resultados</li>"
      ]
    },
    {
      "cell_type": "markdown",
      "metadata": {
        "id": "Fx9QE5yxSEZe"
      },
      "source": [
        "<h3>Formacion y Certificaciones</h3>\n"
      ]
    },
    {
      "cell_type": "markdown",
      "metadata": {
        "id": "iaUnTQt2SEZe"
      },
      "source": [
        "<li>Certificación de <a href= 'https://coderargcba.s3.amazonaws.com/CertificadoCoder.png'> Pythpon developer </a>| Coderhouse</li>\n",
        "<li>Certificación <a href= 'https://coderargcba.s3.amazonaws.com/1420_3_2095837_1676176068_AWS+Course+Completion+Certificate.pdf'> Cloud practitioner essential </a> | AWS </li>\n",
        "<li>Certificación  <a href='https://www.credly.com/badges/2e5884c3-331e-4504-b7b6-04c4740ed517/linked_in_profile'> Cloud Practitioner\n",
        "</a> | AWS </li>\n"
      ]
    },
    {
      "cell_type": "markdown",
      "metadata": {
        "id": "8Gu8ecJLSEZe"
      },
      "source": [
        "<h3>Idiomas</h3>"
      ]
    },
    {
      "cell_type": "markdown",
      "metadata": {
        "id": "4JavJ3H9SEZf"
      },
      "source": [
        "<li>Ingles | A2 Level</li>\n",
        "<li>Español | Nativo</li>"
      ]
    }
  ],
  "metadata": {
    "language_info": {
      "name": "python"
    },
    "orig_nbformat": 4,
    "colab": {
      "provenance": [],
      "include_colab_link": true
    }
  },
  "nbformat": 4,
  "nbformat_minor": 0
}
